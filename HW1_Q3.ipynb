{
 "cells": [
  {
   "cell_type": "code",
   "execution_count": 2,
   "metadata": {},
   "outputs": [
    {
     "data": {
      "text/html": [
       "<table>\n",
       "<thead><tr><th scope=col>V1</th><th scope=col>V2</th><th scope=col>V3</th><th scope=col>V4</th><th scope=col>V5</th><th scope=col>V6</th><th scope=col>V7</th><th scope=col>V8</th><th scope=col>V9</th><th scope=col>V10</th><th scope=col>...</th><th scope=col>V91</th><th scope=col>V92</th><th scope=col>V93</th><th scope=col>V94</th><th scope=col>V95</th><th scope=col>V96</th><th scope=col>V97</th><th scope=col>V98</th><th scope=col>V99</th><th scope=col>V100</th></tr></thead>\n",
       "<tbody>\n",
       "\t<tr><td>4  </td><td>4  </td><td>5  </td><td>4  </td><td>5  </td><td>3  </td><td>5  </td><td>5  </td><td>5  </td><td>4  </td><td>...</td><td>4  </td><td>5  </td><td>3  </td><td>3  </td><td>3  </td><td>0  </td><td>5  </td><td>2  </td><td>5  </td><td>5  </td></tr>\n",
       "\t<tr><td>4  </td><td>4  </td><td>5  </td><td>4  </td><td>5  </td><td>4  </td><td>5  </td><td>5  </td><td>2  </td><td>5  </td><td>...</td><td>4  </td><td>0  </td><td>3  </td><td>0  </td><td>0  </td><td>3  </td><td>3  </td><td>0  </td><td>1  </td><td>0  </td></tr>\n",
       "\t<tr><td>3  </td><td>4  </td><td>4  </td><td>4  </td><td>5  </td><td>5  </td><td>4  </td><td>4  </td><td>3  </td><td>3  </td><td>...</td><td>5  </td><td>0  </td><td>2  </td><td>2  </td><td>3  </td><td>4  </td><td>4  </td><td>5  </td><td>0  </td><td>4  </td></tr>\n",
       "\t<tr><td>3  </td><td>4  </td><td>4  </td><td>3  </td><td>5  </td><td>4  </td><td>4  </td><td>4  </td><td>4  </td><td>4  </td><td>...</td><td>3  </td><td>4  </td><td>3  </td><td>0  </td><td>0  </td><td>4  </td><td>1  </td><td>3  </td><td>0  </td><td>4  </td></tr>\n",
       "\t<tr><td>5  </td><td>5  </td><td>5  </td><td>4  </td><td>5  </td><td>4  </td><td>5  </td><td>5  </td><td>4  </td><td>5  </td><td>...</td><td>4  </td><td>4  </td><td>4  </td><td>3  </td><td>3  </td><td>5  </td><td>3  </td><td>3  </td><td>3  </td><td>0  </td></tr>\n",
       "\t<tr><td>5  </td><td>4  </td><td>5  </td><td>2  </td><td>4  </td><td>5  </td><td>5  </td><td>4  </td><td>4  </td><td>4  </td><td>...</td><td>0  </td><td>5  </td><td>2  </td><td>4  </td><td>4  </td><td>0  </td><td>0  </td><td>4  </td><td>3  </td><td>4  </td></tr>\n",
       "</tbody>\n",
       "</table>\n"
      ],
      "text/latex": [
       "\\begin{tabular}{r|llllllllllllllllllllllllllllllllllllllllllllllllllllllllllllllllllllllllllllllllllllllllllllllllllll}\n",
       " V1 & V2 & V3 & V4 & V5 & V6 & V7 & V8 & V9 & V10 & ... & V91 & V92 & V93 & V94 & V95 & V96 & V97 & V98 & V99 & V100\\\\\n",
       "\\hline\n",
       "\t 4   & 4   & 5   & 4   & 5   & 3   & 5   & 5   & 5   & 4   & ... & 4   & 5   & 3   & 3   & 3   & 0   & 5   & 2   & 5   & 5  \\\\\n",
       "\t 4   & 4   & 5   & 4   & 5   & 4   & 5   & 5   & 2   & 5   & ... & 4   & 0   & 3   & 0   & 0   & 3   & 3   & 0   & 1   & 0  \\\\\n",
       "\t 3   & 4   & 4   & 4   & 5   & 5   & 4   & 4   & 3   & 3   & ... & 5   & 0   & 2   & 2   & 3   & 4   & 4   & 5   & 0   & 4  \\\\\n",
       "\t 3   & 4   & 4   & 3   & 5   & 4   & 4   & 4   & 4   & 4   & ... & 3   & 4   & 3   & 0   & 0   & 4   & 1   & 3   & 0   & 4  \\\\\n",
       "\t 5   & 5   & 5   & 4   & 5   & 4   & 5   & 5   & 4   & 5   & ... & 4   & 4   & 4   & 3   & 3   & 5   & 3   & 3   & 3   & 0  \\\\\n",
       "\t 5   & 4   & 5   & 2   & 4   & 5   & 5   & 4   & 4   & 4   & ... & 0   & 5   & 2   & 4   & 4   & 0   & 0   & 4   & 3   & 4  \\\\\n",
       "\\end{tabular}\n"
      ],
      "text/markdown": [
       "\n",
       "| V1 | V2 | V3 | V4 | V5 | V6 | V7 | V8 | V9 | V10 | ... | V91 | V92 | V93 | V94 | V95 | V96 | V97 | V98 | V99 | V100 |\n",
       "|---|---|---|---|---|---|---|---|---|---|---|---|---|---|---|---|---|---|---|---|---|\n",
       "| 4   | 4   | 5   | 4   | 5   | 3   | 5   | 5   | 5   | 4   | ... | 4   | 5   | 3   | 3   | 3   | 0   | 5   | 2   | 5   | 5   |\n",
       "| 4   | 4   | 5   | 4   | 5   | 4   | 5   | 5   | 2   | 5   | ... | 4   | 0   | 3   | 0   | 0   | 3   | 3   | 0   | 1   | 0   |\n",
       "| 3   | 4   | 4   | 4   | 5   | 5   | 4   | 4   | 3   | 3   | ... | 5   | 0   | 2   | 2   | 3   | 4   | 4   | 5   | 0   | 4   |\n",
       "| 3   | 4   | 4   | 3   | 5   | 4   | 4   | 4   | 4   | 4   | ... | 3   | 4   | 3   | 0   | 0   | 4   | 1   | 3   | 0   | 4   |\n",
       "| 5   | 5   | 5   | 4   | 5   | 4   | 5   | 5   | 4   | 5   | ... | 4   | 4   | 4   | 3   | 3   | 5   | 3   | 3   | 3   | 0   |\n",
       "| 5   | 4   | 5   | 2   | 4   | 5   | 5   | 4   | 4   | 4   | ... | 0   | 5   | 2   | 4   | 4   | 0   | 0   | 4   | 3   | 4   |\n",
       "\n"
      ],
      "text/plain": [
       "  V1 V2 V3 V4 V5 V6 V7 V8 V9 V10 ... V91 V92 V93 V94 V95 V96 V97 V98 V99 V100\n",
       "1 4  4  5  4  5  3  5  5  5  4   ... 4   5   3   3   3   0   5   2   5   5   \n",
       "2 4  4  5  4  5  4  5  5  2  5   ... 4   0   3   0   0   3   3   0   1   0   \n",
       "3 3  4  4  4  5  5  4  4  3  3   ... 5   0   2   2   3   4   4   5   0   4   \n",
       "4 3  4  4  3  5  4  4  4  4  4   ... 3   4   3   0   0   4   1   3   0   4   \n",
       "5 5  5  5  4  5  4  5  5  4  5   ... 4   4   4   3   3   5   3   3   3   0   \n",
       "6 5  4  5  2  4  5  5  4  4  4   ... 0   5   2   4   4   0   0   4   3   4   "
      ]
     },
     "metadata": {},
     "output_type": "display_data"
    }
   ],
   "source": [
    "#HW1_Q3\n",
    "movie=read.table('C:/Users/Administrator/Desktop/gozde/ETM58D_Spring20_HW1_q3_data/ETM58D_Spring20_HW1_q3_Netflix_data.txt')\n",
    "head(movie)"
   ]
  },
  {
   "cell_type": "code",
   "execution_count": 3,
   "metadata": {},
   "outputs": [],
   "source": [
    "#I assume 0 values are missing data and I replaced 0 with NA to work with mice function\n",
    "movie[movie == 0] = NA"
   ]
  },
  {
   "cell_type": "code",
   "execution_count": 4,
   "metadata": {},
   "outputs": [
    {
     "data": {
      "text/html": [
       "<table>\n",
       "<thead><tr><th scope=col>V1</th><th scope=col>V2</th><th scope=col>V3</th><th scope=col>V4</th><th scope=col>V5</th><th scope=col>V6</th><th scope=col>V7</th><th scope=col>V8</th><th scope=col>V9</th><th scope=col>V10</th><th scope=col>...</th><th scope=col>V91</th><th scope=col>V92</th><th scope=col>V93</th><th scope=col>V94</th><th scope=col>V95</th><th scope=col>V96</th><th scope=col>V97</th><th scope=col>V98</th><th scope=col>V99</th><th scope=col>V100</th></tr></thead>\n",
       "<tbody>\n",
       "\t<tr><td>4  </td><td>4  </td><td>5  </td><td>4  </td><td>5  </td><td>3  </td><td>5  </td><td>5  </td><td>5  </td><td>4  </td><td>...</td><td> 4 </td><td> 5 </td><td>3  </td><td> 3 </td><td> 3 </td><td>NA </td><td> 5 </td><td> 2 </td><td> 5 </td><td> 5 </td></tr>\n",
       "\t<tr><td>4  </td><td>4  </td><td>5  </td><td>4  </td><td>5  </td><td>4  </td><td>5  </td><td>5  </td><td>2  </td><td>5  </td><td>...</td><td> 4 </td><td>NA </td><td>3  </td><td>NA </td><td>NA </td><td> 3 </td><td> 3 </td><td>NA </td><td> 1 </td><td>NA </td></tr>\n",
       "\t<tr><td>3  </td><td>4  </td><td>4  </td><td>4  </td><td>5  </td><td>5  </td><td>4  </td><td>4  </td><td>3  </td><td>3  </td><td>...</td><td> 5 </td><td>NA </td><td>2  </td><td> 2 </td><td> 3 </td><td> 4 </td><td> 4 </td><td> 5 </td><td>NA </td><td> 4 </td></tr>\n",
       "\t<tr><td>3  </td><td>4  </td><td>4  </td><td>3  </td><td>5  </td><td>4  </td><td>4  </td><td>4  </td><td>4  </td><td>4  </td><td>...</td><td> 3 </td><td> 4 </td><td>3  </td><td>NA </td><td>NA </td><td> 4 </td><td> 1 </td><td> 3 </td><td>NA </td><td> 4 </td></tr>\n",
       "\t<tr><td>5  </td><td>5  </td><td>5  </td><td>4  </td><td>5  </td><td>4  </td><td>5  </td><td>5  </td><td>4  </td><td>5  </td><td>...</td><td> 4 </td><td> 4 </td><td>4  </td><td> 3 </td><td> 3 </td><td> 5 </td><td> 3 </td><td> 3 </td><td> 3 </td><td>NA </td></tr>\n",
       "\t<tr><td>5  </td><td>4  </td><td>5  </td><td>2  </td><td>4  </td><td>5  </td><td>5  </td><td>4  </td><td>4  </td><td>4  </td><td>...</td><td>NA </td><td> 5 </td><td>2  </td><td> 4 </td><td> 4 </td><td>NA </td><td>NA </td><td> 4 </td><td> 3 </td><td> 4 </td></tr>\n",
       "</tbody>\n",
       "</table>\n"
      ],
      "text/latex": [
       "\\begin{tabular}{r|llllllllllllllllllllllllllllllllllllllllllllllllllllllllllllllllllllllllllllllllllllllllllllllllllll}\n",
       " V1 & V2 & V3 & V4 & V5 & V6 & V7 & V8 & V9 & V10 & ... & V91 & V92 & V93 & V94 & V95 & V96 & V97 & V98 & V99 & V100\\\\\n",
       "\\hline\n",
       "\t 4   & 4   & 5   & 4   & 5   & 3   & 5   & 5   & 5   & 4   & ... &  4  &  5  & 3   &  3  &  3  & NA  &  5  &  2  &  5  &  5 \\\\\n",
       "\t 4   & 4   & 5   & 4   & 5   & 4   & 5   & 5   & 2   & 5   & ... &  4  & NA  & 3   & NA  & NA  &  3  &  3  & NA  &  1  & NA \\\\\n",
       "\t 3   & 4   & 4   & 4   & 5   & 5   & 4   & 4   & 3   & 3   & ... &  5  & NA  & 2   &  2  &  3  &  4  &  4  &  5  & NA  &  4 \\\\\n",
       "\t 3   & 4   & 4   & 3   & 5   & 4   & 4   & 4   & 4   & 4   & ... &  3  &  4  & 3   & NA  & NA  &  4  &  1  &  3  & NA  &  4 \\\\\n",
       "\t 5   & 5   & 5   & 4   & 5   & 4   & 5   & 5   & 4   & 5   & ... &  4  &  4  & 4   &  3  &  3  &  5  &  3  &  3  &  3  & NA \\\\\n",
       "\t 5   & 4   & 5   & 2   & 4   & 5   & 5   & 4   & 4   & 4   & ... & NA  &  5  & 2   &  4  &  4  & NA  & NA  &  4  &  3  &  4 \\\\\n",
       "\\end{tabular}\n"
      ],
      "text/markdown": [
       "\n",
       "| V1 | V2 | V3 | V4 | V5 | V6 | V7 | V8 | V9 | V10 | ... | V91 | V92 | V93 | V94 | V95 | V96 | V97 | V98 | V99 | V100 |\n",
       "|---|---|---|---|---|---|---|---|---|---|---|---|---|---|---|---|---|---|---|---|---|\n",
       "| 4   | 4   | 5   | 4   | 5   | 3   | 5   | 5   | 5   | 4   | ... |  4  |  5  | 3   |  3  |  3  | NA  |  5  |  2  |  5  |  5  |\n",
       "| 4   | 4   | 5   | 4   | 5   | 4   | 5   | 5   | 2   | 5   | ... |  4  | NA  | 3   | NA  | NA  |  3  |  3  | NA  |  1  | NA  |\n",
       "| 3   | 4   | 4   | 4   | 5   | 5   | 4   | 4   | 3   | 3   | ... |  5  | NA  | 2   |  2  |  3  |  4  |  4  |  5  | NA  |  4  |\n",
       "| 3   | 4   | 4   | 3   | 5   | 4   | 4   | 4   | 4   | 4   | ... |  3  |  4  | 3   | NA  | NA  |  4  |  1  |  3  | NA  |  4  |\n",
       "| 5   | 5   | 5   | 4   | 5   | 4   | 5   | 5   | 4   | 5   | ... |  4  |  4  | 4   |  3  |  3  |  5  |  3  |  3  |  3  | NA  |\n",
       "| 5   | 4   | 5   | 2   | 4   | 5   | 5   | 4   | 4   | 4   | ... | NA  |  5  | 2   |  4  |  4  | NA  | NA  |  4  |  3  |  4  |\n",
       "\n"
      ],
      "text/plain": [
       "  V1 V2 V3 V4 V5 V6 V7 V8 V9 V10 ... V91 V92 V93 V94 V95 V96 V97 V98 V99 V100\n",
       "1 4  4  5  4  5  3  5  5  5  4   ...  4   5  3    3   3  NA   5   2   5   5  \n",
       "2 4  4  5  4  5  4  5  5  2  5   ...  4  NA  3   NA  NA   3   3  NA   1  NA  \n",
       "3 3  4  4  4  5  5  4  4  3  3   ...  5  NA  2    2   3   4   4   5  NA   4  \n",
       "4 3  4  4  3  5  4  4  4  4  4   ...  3   4  3   NA  NA   4   1   3  NA   4  \n",
       "5 5  5  5  4  5  4  5  5  4  5   ...  4   4  4    3   3   5   3   3   3  NA  \n",
       "6 5  4  5  2  4  5  5  4  4  4   ... NA   5  2    4   4  NA  NA   4   3   4  "
      ]
     },
     "metadata": {},
     "output_type": "display_data"
    }
   ],
   "source": [
    "head(movie)"
   ]
  },
  {
   "cell_type": "code",
   "execution_count": 5,
   "metadata": {},
   "outputs": [
    {
     "name": "stderr",
     "output_type": "stream",
     "text": [
      "also installing the dependencies 'utf8', 'plyr', 'cli', 'fansi', 'pillar', 'backports', 'generics', 'nlme', 'purrr', 'reshape2', 'stringr', 'tibble', 'ellipsis', 'assertthat', 'glue', 'magrittr', 'pkgconfig', 'R6', 'rlang', 'tidyselect', 'BH', 'plogr', 'stringi', 'vctrs', 'lifecycle', 'broom', 'dplyr', 'lattice', 'tidyr'\n",
      "\n"
     ]
    },
    {
     "name": "stdout",
     "output_type": "stream",
     "text": [
      "\n",
      "  There is a binary version available but the source version is later:\n",
      "      binary source needs_compilation\n",
      "rlang  0.4.5  0.4.6              TRUE\n",
      "\n",
      "  Binaries will be installed\n",
      "package 'utf8' successfully unpacked and MD5 sums checked\n",
      "package 'plyr' successfully unpacked and MD5 sums checked\n",
      "package 'cli' successfully unpacked and MD5 sums checked\n",
      "package 'fansi' successfully unpacked and MD5 sums checked\n",
      "package 'pillar' successfully unpacked and MD5 sums checked\n",
      "package 'backports' successfully unpacked and MD5 sums checked\n",
      "package 'generics' successfully unpacked and MD5 sums checked\n",
      "package 'nlme' successfully unpacked and MD5 sums checked\n",
      "package 'purrr' successfully unpacked and MD5 sums checked\n",
      "package 'reshape2' successfully unpacked and MD5 sums checked\n",
      "package 'stringr' successfully unpacked and MD5 sums checked\n",
      "package 'tibble' successfully unpacked and MD5 sums checked\n",
      "package 'ellipsis' successfully unpacked and MD5 sums checked\n",
      "package 'assertthat' successfully unpacked and MD5 sums checked\n",
      "package 'glue' successfully unpacked and MD5 sums checked\n",
      "package 'magrittr' successfully unpacked and MD5 sums checked\n",
      "package 'pkgconfig' successfully unpacked and MD5 sums checked\n",
      "package 'R6' successfully unpacked and MD5 sums checked\n",
      "package 'rlang' successfully unpacked and MD5 sums checked\n",
      "package 'tidyselect' successfully unpacked and MD5 sums checked\n",
      "package 'BH' successfully unpacked and MD5 sums checked\n",
      "package 'plogr' successfully unpacked and MD5 sums checked\n",
      "package 'stringi' successfully unpacked and MD5 sums checked\n",
      "package 'vctrs' successfully unpacked and MD5 sums checked\n",
      "package 'lifecycle' successfully unpacked and MD5 sums checked\n",
      "package 'broom' successfully unpacked and MD5 sums checked\n",
      "package 'dplyr' successfully unpacked and MD5 sums checked\n",
      "package 'lattice' successfully unpacked and MD5 sums checked\n",
      "package 'tidyr' successfully unpacked and MD5 sums checked\n",
      "package 'mice' successfully unpacked and MD5 sums checked\n",
      "\n",
      "The downloaded binary packages are in\n",
      "\tC:\\Users\\Administrator\\AppData\\Local\\Temp\\RtmpqonnKd\\downloaded_packages\n"
     ]
    },
    {
     "name": "stderr",
     "output_type": "stream",
     "text": [
      "Warning message:\n",
      "\"package 'mice' was built under R version 3.6.3\"\n",
      "Attaching package: 'mice'\n",
      "\n",
      "The following objects are masked from 'package:base':\n",
      "\n",
      "    cbind, rbind\n",
      "\n"
     ]
    }
   ],
   "source": [
    "install.packages('mice')\n",
    "library(mice)"
   ]
  },
  {
   "cell_type": "code",
   "execution_count": 6,
   "metadata": {},
   "outputs": [
    {
     "name": "stdout",
     "output_type": "stream",
     "text": [
      "\n",
      " iter imp variable\n",
      "  1   1  V16  V17  V18  V19  V20  V21  V22  V23  V24  V25  V26  V27  V28  V29  V30  V31  V32  V33  V34  V35  V36  V37  V38  V39  V40  V41  V42  V43  V44  V45  V46  V47  V48  V49  V50  V51  V52  V53  V54  V55  V56  V57  V58  V59  V60  V61  V62  V63  V64  V65  V66  V67  V68  V69  V70  V71  V72  V73  V74  V75  V76  V77  V78  V79  V80  V81  V82  V83  V84  V85  V86  V87  V88  V89  V90  V91  V92  V93  V94  V95  V96  V97  V98  V99  V100\n",
      "  2   1  V16  V17  V18  V19  V20  V21  V22  V23  V24  V25  V26  V27  V28  V29  V30  V31  V32  V33  V34  V35  V36  V37  V38  V39  V40  V41  V42  V43  V44  V45  V46  V47  V48  V49  V50  V51  V52  V53  V54  V55  V56  V57  V58  V59  V60  V61  V62  V63  V64  V65  V66  V67  V68  V69  V70  V71  V72  V73  V74  V75  V76  V77  V78  V79  V80  V81  V82  V83  V84  V85  V86  V87  V88  V89  V90  V91  V92  V93  V94  V95  V96  V97  V98  V99  V100\n",
      "  3   1  V16  V17  V18  V19  V20  V21  V22  V23  V24  V25  V26  V27  V28  V29  V30  V31  V32  V33  V34  V35  V36  V37  V38  V39  V40  V41  V42  V43  V44  V45  V46  V47  V48  V49  V50  V51  V52  V53  V54  V55  V56  V57  V58  V59  V60  V61  V62  V63  V64  V65  V66  V67  V68  V69  V70  V71  V72  V73  V74  V75  V76  V77  V78  V79  V80  V81  V82  V83  V84  V85  V86  V87  V88  V89  V90  V91  V92  V93  V94  V95  V96  V97  V98  V99  V100\n",
      "  4   1  V16  V17  V18  V19  V20  V21  V22  V23  V24  V25  V26  V27  V28  V29  V30  V31  V32  V33  V34  V35  V36  V37  V38  V39  V40  V41  V42  V43  V44  V45  V46  V47  V48  V49  V50  V51  V52  V53  V54  V55  V56  V57  V58  V59  V60  V61  V62  V63  V64  V65  V66  V67  V68  V69  V70  V71  V72  V73  V74  V75  V76  V77  V78  V79  V80  V81  V82  V83  V84  V85  V86  V87  V88  V89  V90  V91  V92  V93  V94  V95  V96  V97  V98  V99  V100\n",
      "  5   1  V16  V17  V18  V19  V20  V21  V22  V23  V24  V25  V26  V27  V28  V29  V30  V31  V32  V33  V34  V35  V36  V37  V38  V39  V40  V41  V42  V43  V44  V45  V46  V47  V48  V49  V50  V51  V52  V53  V54  V55  V56  V57  V58  V59  V60  V61  V62  V63  V64  V65  V66  V67  V68  V69  V70  V71  V72  V73  V74  V75  V76  V77  V78  V79  V80  V81  V82  V83  V84  V85  V86  V87  V88  V89  V90  V91  V92  V93  V94  V95  V96  V97  V98  V99  V100\n"
     ]
    }
   ],
   "source": [
    "#I have imputed missing values with mice function. I run the fuction with one iteration due to time constraints.\n",
    "movie.imp=complete(mice(movie,m=1))"
   ]
  },
  {
   "cell_type": "code",
   "execution_count": 7,
   "metadata": {},
   "outputs": [
    {
     "data": {
      "text/html": [
       "<table>\n",
       "<thead><tr><th scope=col>V1</th><th scope=col>V2</th><th scope=col>V3</th><th scope=col>V4</th><th scope=col>V5</th><th scope=col>V6</th><th scope=col>V7</th><th scope=col>V8</th><th scope=col>V9</th><th scope=col>V10</th><th scope=col>...</th><th scope=col>V91</th><th scope=col>V92</th><th scope=col>V93</th><th scope=col>V94</th><th scope=col>V95</th><th scope=col>V96</th><th scope=col>V97</th><th scope=col>V98</th><th scope=col>V99</th><th scope=col>V100</th></tr></thead>\n",
       "<tbody>\n",
       "\t<tr><td>4  </td><td>4  </td><td>5  </td><td>4  </td><td>5  </td><td>3  </td><td>5  </td><td>5  </td><td>5  </td><td>4  </td><td>...</td><td>4  </td><td>5  </td><td>3  </td><td>3  </td><td>3  </td><td>5  </td><td>5  </td><td>2  </td><td>5  </td><td>5  </td></tr>\n",
       "\t<tr><td>4  </td><td>4  </td><td>5  </td><td>4  </td><td>5  </td><td>4  </td><td>5  </td><td>5  </td><td>2  </td><td>5  </td><td>...</td><td>4  </td><td>5  </td><td>3  </td><td>4  </td><td>4  </td><td>3  </td><td>3  </td><td>3  </td><td>1  </td><td>4  </td></tr>\n",
       "\t<tr><td>3  </td><td>4  </td><td>4  </td><td>4  </td><td>5  </td><td>5  </td><td>4  </td><td>4  </td><td>3  </td><td>3  </td><td>...</td><td>5  </td><td>4  </td><td>2  </td><td>2  </td><td>3  </td><td>4  </td><td>4  </td><td>5  </td><td>4  </td><td>4  </td></tr>\n",
       "\t<tr><td>3  </td><td>4  </td><td>4  </td><td>3  </td><td>5  </td><td>4  </td><td>4  </td><td>4  </td><td>4  </td><td>4  </td><td>...</td><td>3  </td><td>4  </td><td>3  </td><td>3  </td><td>4  </td><td>4  </td><td>1  </td><td>3  </td><td>2  </td><td>4  </td></tr>\n",
       "\t<tr><td>5  </td><td>5  </td><td>5  </td><td>4  </td><td>5  </td><td>4  </td><td>5  </td><td>5  </td><td>4  </td><td>5  </td><td>...</td><td>4  </td><td>4  </td><td>4  </td><td>3  </td><td>3  </td><td>5  </td><td>3  </td><td>3  </td><td>3  </td><td>5  </td></tr>\n",
       "\t<tr><td>5  </td><td>4  </td><td>5  </td><td>2  </td><td>4  </td><td>5  </td><td>5  </td><td>4  </td><td>4  </td><td>4  </td><td>...</td><td>5  </td><td>5  </td><td>2  </td><td>4  </td><td>4  </td><td>4  </td><td>4  </td><td>4  </td><td>3  </td><td>4  </td></tr>\n",
       "</tbody>\n",
       "</table>\n"
      ],
      "text/latex": [
       "\\begin{tabular}{r|llllllllllllllllllllllllllllllllllllllllllllllllllllllllllllllllllllllllllllllllllllllllllllllllllll}\n",
       " V1 & V2 & V3 & V4 & V5 & V6 & V7 & V8 & V9 & V10 & ... & V91 & V92 & V93 & V94 & V95 & V96 & V97 & V98 & V99 & V100\\\\\n",
       "\\hline\n",
       "\t 4   & 4   & 5   & 4   & 5   & 3   & 5   & 5   & 5   & 4   & ... & 4   & 5   & 3   & 3   & 3   & 5   & 5   & 2   & 5   & 5  \\\\\n",
       "\t 4   & 4   & 5   & 4   & 5   & 4   & 5   & 5   & 2   & 5   & ... & 4   & 5   & 3   & 4   & 4   & 3   & 3   & 3   & 1   & 4  \\\\\n",
       "\t 3   & 4   & 4   & 4   & 5   & 5   & 4   & 4   & 3   & 3   & ... & 5   & 4   & 2   & 2   & 3   & 4   & 4   & 5   & 4   & 4  \\\\\n",
       "\t 3   & 4   & 4   & 3   & 5   & 4   & 4   & 4   & 4   & 4   & ... & 3   & 4   & 3   & 3   & 4   & 4   & 1   & 3   & 2   & 4  \\\\\n",
       "\t 5   & 5   & 5   & 4   & 5   & 4   & 5   & 5   & 4   & 5   & ... & 4   & 4   & 4   & 3   & 3   & 5   & 3   & 3   & 3   & 5  \\\\\n",
       "\t 5   & 4   & 5   & 2   & 4   & 5   & 5   & 4   & 4   & 4   & ... & 5   & 5   & 2   & 4   & 4   & 4   & 4   & 4   & 3   & 4  \\\\\n",
       "\\end{tabular}\n"
      ],
      "text/markdown": [
       "\n",
       "| V1 | V2 | V3 | V4 | V5 | V6 | V7 | V8 | V9 | V10 | ... | V91 | V92 | V93 | V94 | V95 | V96 | V97 | V98 | V99 | V100 |\n",
       "|---|---|---|---|---|---|---|---|---|---|---|---|---|---|---|---|---|---|---|---|---|\n",
       "| 4   | 4   | 5   | 4   | 5   | 3   | 5   | 5   | 5   | 4   | ... | 4   | 5   | 3   | 3   | 3   | 5   | 5   | 2   | 5   | 5   |\n",
       "| 4   | 4   | 5   | 4   | 5   | 4   | 5   | 5   | 2   | 5   | ... | 4   | 5   | 3   | 4   | 4   | 3   | 3   | 3   | 1   | 4   |\n",
       "| 3   | 4   | 4   | 4   | 5   | 5   | 4   | 4   | 3   | 3   | ... | 5   | 4   | 2   | 2   | 3   | 4   | 4   | 5   | 4   | 4   |\n",
       "| 3   | 4   | 4   | 3   | 5   | 4   | 4   | 4   | 4   | 4   | ... | 3   | 4   | 3   | 3   | 4   | 4   | 1   | 3   | 2   | 4   |\n",
       "| 5   | 5   | 5   | 4   | 5   | 4   | 5   | 5   | 4   | 5   | ... | 4   | 4   | 4   | 3   | 3   | 5   | 3   | 3   | 3   | 5   |\n",
       "| 5   | 4   | 5   | 2   | 4   | 5   | 5   | 4   | 4   | 4   | ... | 5   | 5   | 2   | 4   | 4   | 4   | 4   | 4   | 3   | 4   |\n",
       "\n"
      ],
      "text/plain": [
       "  V1 V2 V3 V4 V5 V6 V7 V8 V9 V10 ... V91 V92 V93 V94 V95 V96 V97 V98 V99 V100\n",
       "1 4  4  5  4  5  3  5  5  5  4   ... 4   5   3   3   3   5   5   2   5   5   \n",
       "2 4  4  5  4  5  4  5  5  2  5   ... 4   5   3   4   4   3   3   3   1   4   \n",
       "3 3  4  4  4  5  5  4  4  3  3   ... 5   4   2   2   3   4   4   5   4   4   \n",
       "4 3  4  4  3  5  4  4  4  4  4   ... 3   4   3   3   4   4   1   3   2   4   \n",
       "5 5  5  5  4  5  4  5  5  4  5   ... 4   4   4   3   3   5   3   3   3   5   \n",
       "6 5  4  5  2  4  5  5  4  4  4   ... 5   5   2   4   4   4   4   4   3   4   "
      ]
     },
     "metadata": {},
     "output_type": "display_data"
    }
   ],
   "source": [
    "head(movie.imp)"
   ]
  },
  {
   "cell_type": "code",
   "execution_count": 8,
   "metadata": {},
   "outputs": [],
   "source": [
    "#I chose 1000 observations\n",
    "bin=sample(1:10000,1000)\n",
    "movie.bin=movie.imp[bin,]"
   ]
  },
  {
   "cell_type": "code",
   "execution_count": 9,
   "metadata": {},
   "outputs": [],
   "source": [
    "#I computed the distances\n",
    "movie.dist = as.matrix(stats::dist(movie.bin, method = \"euclidean\"))"
   ]
  },
  {
   "cell_type": "code",
   "execution_count": 10,
   "metadata": {},
   "outputs": [
    {
     "data": {
      "text/html": [
       "<table>\n",
       "<thead><tr><th></th><th scope=col>5583</th><th scope=col>8380</th><th scope=col>5701</th><th scope=col>6591</th><th scope=col>7621</th><th scope=col>9363</th><th scope=col>5003</th><th scope=col>7101</th><th scope=col>1610</th><th scope=col>1424</th><th scope=col>...</th><th scope=col>1594</th><th scope=col>7866</th><th scope=col>7548</th><th scope=col>9431</th><th scope=col>9320</th><th scope=col>9310</th><th scope=col>6476</th><th scope=col>2577</th><th scope=col>9784</th><th scope=col>9654</th></tr></thead>\n",
       "<tbody>\n",
       "\t<tr><th scope=row>5583</th><td> 0.00000 </td><td>13.564660</td><td>12.767145</td><td>11.35782 </td><td>12.56981 </td><td>18.24829 </td><td>22.22611 </td><td>19.15724 </td><td>14.83240 </td><td>14.31782 </td><td>...      </td><td>11.045361</td><td>10.39230 </td><td>16.30951 </td><td>12.88410 </td><td>14.69694 </td><td>17.14643 </td><td>13.711309</td><td>12.56981 </td><td>14.45683 </td><td>16.40122 </td></tr>\n",
       "\t<tr><th scope=row>8380</th><td>13.56466 </td><td> 0.000000</td><td> 9.327379</td><td>13.37909 </td><td>13.78405 </td><td>13.96424 </td><td>16.67333 </td><td>13.67479 </td><td>12.40967 </td><td>12.28821 </td><td>...      </td><td>11.045361</td><td>12.08305 </td><td>13.03840 </td><td>12.96148 </td><td>11.57584 </td><td>11.74734 </td><td> 9.273618</td><td>14.21267 </td><td>11.44552 </td><td>12.44990 </td></tr>\n",
       "\t<tr><th scope=row>5701</th><td>12.76715 </td><td> 9.327379</td><td> 0.000000</td><td>12.08305 </td><td>13.00000 </td><td>13.56466 </td><td>16.58312 </td><td>13.03840 </td><td>12.04159 </td><td> 9.69536 </td><td>...      </td><td> 9.746794</td><td>10.24695 </td><td>13.00000 </td><td>11.53256 </td><td>10.63015 </td><td>11.35782 </td><td> 9.219544</td><td>13.30413 </td><td>10.86278 </td><td>12.56981 </td></tr>\n",
       "\t<tr><th scope=row>6591</th><td>11.35782 </td><td>13.379088</td><td>12.083046</td><td> 0.00000 </td><td>12.84523 </td><td>15.49193 </td><td>19.20937 </td><td>17.37815 </td><td>14.31782 </td><td>14.21267 </td><td>...      </td><td> 9.539392</td><td>10.81665 </td><td>15.00000 </td><td>14.10674 </td><td>12.28821 </td><td>14.73092 </td><td>13.304135</td><td>11.00000 </td><td>14.49138 </td><td>14.56022 </td></tr>\n",
       "\t<tr><th scope=row>7621</th><td>12.56981 </td><td>13.784049</td><td>13.000000</td><td>12.84523 </td><td> 0.00000 </td><td>16.52271 </td><td>20.63977 </td><td>16.88194 </td><td>15.09967 </td><td>12.84523 </td><td>...      </td><td>11.747340</td><td>10.86278 </td><td>15.42725 </td><td>14.89966 </td><td>13.63818 </td><td>15.36229 </td><td>13.490738</td><td>12.40967 </td><td>15.00000 </td><td>15.00000 </td></tr>\n",
       "\t<tr><th scope=row>9363</th><td>18.24829 </td><td>13.964240</td><td>13.564660</td><td>15.49193 </td><td>16.52271 </td><td> 0.00000 </td><td>16.52271 </td><td>14.89966 </td><td>16.82260 </td><td>14.62874 </td><td>...      </td><td>14.933185</td><td>15.58846 </td><td>13.45362 </td><td>15.90597 </td><td>13.60147 </td><td>13.52775 </td><td>12.041595</td><td>17.34935 </td><td>14.21267 </td><td>14.28286 </td></tr>\n",
       "</tbody>\n",
       "</table>\n"
      ],
      "text/latex": [
       "\\begin{tabular}{r|llllllllllllllllllllllllllllllllllllllllllllllllllllllllllllllllllllllllllllllllllllllllllllllllllllllllllllllllllllllllllllllllllllllllllllllllllllllllllllllllllllllllllllllllllllllllllllllllllllllllllllllllllllllllllllllllllllllllllllllllllllllllllllllllllllllllllllllllllllllllllllllllllllllllllllllllllllllllllllllllllllllllllllllllllllllllllllllllllllllllllllllllllllllllllllllllllllllllllllllllllllllllllllllllllllllllllllllllllllllllllllllllllllllllllllllllllllllllllllllllllllllllllllllllllllllllllllllllllllllllllllllllllllllllllllllllllllllllllllllllllllllllllllllllllllllllllllllllllllllllllllllllllllllllllllllllllllllllllllllllllllllllllllllllllllllllllllllllllllllllllllllllllllllllllllllllllllllllllllllllllllllllllllllllllllllllllllllllllllllllllllllllllllllllllllllllllllllllllllllllllllllllllllllllllllllllllllllllllllllllllllllllllllllllllllllllllllllllllllllllllllllllllllllllllllllllllllllllllllllllllllllllllllllllllllllllllllllllllllllllllllllllllllllllllllllllllllllllllllllll}\n",
       "  & 5583 & 8380 & 5701 & 6591 & 7621 & 9363 & 5003 & 7101 & 1610 & 1424 & ... & 1594 & 7866 & 7548 & 9431 & 9320 & 9310 & 6476 & 2577 & 9784 & 9654\\\\\n",
       "\\hline\n",
       "\t5583 &  0.00000  & 13.564660 & 12.767145 & 11.35782  & 12.56981  & 18.24829  & 22.22611  & 19.15724  & 14.83240  & 14.31782  & ...       & 11.045361 & 10.39230  & 16.30951  & 12.88410  & 14.69694  & 17.14643  & 13.711309 & 12.56981  & 14.45683  & 16.40122 \\\\\n",
       "\t8380 & 13.56466  &  0.000000 &  9.327379 & 13.37909  & 13.78405  & 13.96424  & 16.67333  & 13.67479  & 12.40967  & 12.28821  & ...       & 11.045361 & 12.08305  & 13.03840  & 12.96148  & 11.57584  & 11.74734  &  9.273618 & 14.21267  & 11.44552  & 12.44990 \\\\\n",
       "\t5701 & 12.76715  &  9.327379 &  0.000000 & 12.08305  & 13.00000  & 13.56466  & 16.58312  & 13.03840  & 12.04159  &  9.69536  & ...       &  9.746794 & 10.24695  & 13.00000  & 11.53256  & 10.63015  & 11.35782  &  9.219544 & 13.30413  & 10.86278  & 12.56981 \\\\\n",
       "\t6591 & 11.35782  & 13.379088 & 12.083046 &  0.00000  & 12.84523  & 15.49193  & 19.20937  & 17.37815  & 14.31782  & 14.21267  & ...       &  9.539392 & 10.81665  & 15.00000  & 14.10674  & 12.28821  & 14.73092  & 13.304135 & 11.00000  & 14.49138  & 14.56022 \\\\\n",
       "\t7621 & 12.56981  & 13.784049 & 13.000000 & 12.84523  &  0.00000  & 16.52271  & 20.63977  & 16.88194  & 15.09967  & 12.84523  & ...       & 11.747340 & 10.86278  & 15.42725  & 14.89966  & 13.63818  & 15.36229  & 13.490738 & 12.40967  & 15.00000  & 15.00000 \\\\\n",
       "\t9363 & 18.24829  & 13.964240 & 13.564660 & 15.49193  & 16.52271  &  0.00000  & 16.52271  & 14.89966  & 16.82260  & 14.62874  & ...       & 14.933185 & 15.58846  & 13.45362  & 15.90597  & 13.60147  & 13.52775  & 12.041595 & 17.34935  & 14.21267  & 14.28286 \\\\\n",
       "\\end{tabular}\n"
      ],
      "text/markdown": [
       "\n",
       "| <!--/--> | 5583 | 8380 | 5701 | 6591 | 7621 | 9363 | 5003 | 7101 | 1610 | 1424 | ... | 1594 | 7866 | 7548 | 9431 | 9320 | 9310 | 6476 | 2577 | 9784 | 9654 |\n",
       "|---|---|---|---|---|---|---|---|---|---|---|---|---|---|---|---|---|---|---|---|---|---|\n",
       "| 5583 |  0.00000  | 13.564660 | 12.767145 | 11.35782  | 12.56981  | 18.24829  | 22.22611  | 19.15724  | 14.83240  | 14.31782  | ...       | 11.045361 | 10.39230  | 16.30951  | 12.88410  | 14.69694  | 17.14643  | 13.711309 | 12.56981  | 14.45683  | 16.40122  |\n",
       "| 8380 | 13.56466  |  0.000000 |  9.327379 | 13.37909  | 13.78405  | 13.96424  | 16.67333  | 13.67479  | 12.40967  | 12.28821  | ...       | 11.045361 | 12.08305  | 13.03840  | 12.96148  | 11.57584  | 11.74734  |  9.273618 | 14.21267  | 11.44552  | 12.44990  |\n",
       "| 5701 | 12.76715  |  9.327379 |  0.000000 | 12.08305  | 13.00000  | 13.56466  | 16.58312  | 13.03840  | 12.04159  |  9.69536  | ...       |  9.746794 | 10.24695  | 13.00000  | 11.53256  | 10.63015  | 11.35782  |  9.219544 | 13.30413  | 10.86278  | 12.56981  |\n",
       "| 6591 | 11.35782  | 13.379088 | 12.083046 |  0.00000  | 12.84523  | 15.49193  | 19.20937  | 17.37815  | 14.31782  | 14.21267  | ...       |  9.539392 | 10.81665  | 15.00000  | 14.10674  | 12.28821  | 14.73092  | 13.304135 | 11.00000  | 14.49138  | 14.56022  |\n",
       "| 7621 | 12.56981  | 13.784049 | 13.000000 | 12.84523  |  0.00000  | 16.52271  | 20.63977  | 16.88194  | 15.09967  | 12.84523  | ...       | 11.747340 | 10.86278  | 15.42725  | 14.89966  | 13.63818  | 15.36229  | 13.490738 | 12.40967  | 15.00000  | 15.00000  |\n",
       "| 9363 | 18.24829  | 13.964240 | 13.564660 | 15.49193  | 16.52271  |  0.00000  | 16.52271  | 14.89966  | 16.82260  | 14.62874  | ...       | 14.933185 | 15.58846  | 13.45362  | 15.90597  | 13.60147  | 13.52775  | 12.041595 | 17.34935  | 14.21267  | 14.28286  |\n",
       "\n"
      ],
      "text/plain": [
       "     5583     8380      5701      6591     7621     9363     5003     7101    \n",
       "5583  0.00000 13.564660 12.767145 11.35782 12.56981 18.24829 22.22611 19.15724\n",
       "8380 13.56466  0.000000  9.327379 13.37909 13.78405 13.96424 16.67333 13.67479\n",
       "5701 12.76715  9.327379  0.000000 12.08305 13.00000 13.56466 16.58312 13.03840\n",
       "6591 11.35782 13.379088 12.083046  0.00000 12.84523 15.49193 19.20937 17.37815\n",
       "7621 12.56981 13.784049 13.000000 12.84523  0.00000 16.52271 20.63977 16.88194\n",
       "9363 18.24829 13.964240 13.564660 15.49193 16.52271  0.00000 16.52271 14.89966\n",
       "     1610     1424     ... 1594      7866     7548     9431     9320    \n",
       "5583 14.83240 14.31782 ... 11.045361 10.39230 16.30951 12.88410 14.69694\n",
       "8380 12.40967 12.28821 ... 11.045361 12.08305 13.03840 12.96148 11.57584\n",
       "5701 12.04159  9.69536 ...  9.746794 10.24695 13.00000 11.53256 10.63015\n",
       "6591 14.31782 14.21267 ...  9.539392 10.81665 15.00000 14.10674 12.28821\n",
       "7621 15.09967 12.84523 ... 11.747340 10.86278 15.42725 14.89966 13.63818\n",
       "9363 16.82260 14.62874 ... 14.933185 15.58846 13.45362 15.90597 13.60147\n",
       "     9310     6476      2577     9784     9654    \n",
       "5583 17.14643 13.711309 12.56981 14.45683 16.40122\n",
       "8380 11.74734  9.273618 14.21267 11.44552 12.44990\n",
       "5701 11.35782  9.219544 13.30413 10.86278 12.56981\n",
       "6591 14.73092 13.304135 11.00000 14.49138 14.56022\n",
       "7621 15.36229 13.490738 12.40967 15.00000 15.00000\n",
       "9363 13.52775 12.041595 17.34935 14.21267 14.28286"
      ]
     },
     "metadata": {},
     "output_type": "display_data"
    }
   ],
   "source": [
    "head(movie.dist)"
   ]
  },
  {
   "cell_type": "code",
   "execution_count": 11,
   "metadata": {},
   "outputs": [],
   "source": [
    "#I run cmdscale function for multi dimansional scaling\n",
    "mds = cmdscale(movie.dist, 2)"
   ]
  },
  {
   "cell_type": "code",
   "execution_count": 12,
   "metadata": {},
   "outputs": [
    {
     "data": {
      "text/html": [
       "<table>\n",
       "<tbody>\n",
       "\t<tr><th scope=row>5583</th><td> 6.318094 </td><td> 2.5240023</td></tr>\n",
       "\t<tr><th scope=row>8380</th><td>-2.606285 </td><td> 1.2619462</td></tr>\n",
       "\t<tr><th scope=row>5701</th><td>-1.609710 </td><td> 1.7390522</td></tr>\n",
       "\t<tr><th scope=row>6591</th><td> 3.878616 </td><td>-2.3243613</td></tr>\n",
       "\t<tr><th scope=row>7621</th><td> 2.996883 </td><td>-0.7492502</td></tr>\n",
       "\t<tr><th scope=row>9363</th><td>-5.634530 </td><td>-4.1805840</td></tr>\n",
       "</tbody>\n",
       "</table>\n"
      ],
      "text/latex": [
       "\\begin{tabular}{r|ll}\n",
       "\t5583 &  6.318094  &  2.5240023\\\\\n",
       "\t8380 & -2.606285  &  1.2619462\\\\\n",
       "\t5701 & -1.609710  &  1.7390522\\\\\n",
       "\t6591 &  3.878616  & -2.3243613\\\\\n",
       "\t7621 &  2.996883  & -0.7492502\\\\\n",
       "\t9363 & -5.634530  & -4.1805840\\\\\n",
       "\\end{tabular}\n"
      ],
      "text/markdown": [
       "\n",
       "| 5583 |  6.318094  |  2.5240023 |\n",
       "| 8380 | -2.606285  |  1.2619462 |\n",
       "| 5701 | -1.609710  |  1.7390522 |\n",
       "| 6591 |  3.878616  | -2.3243613 |\n",
       "| 7621 |  2.996883  | -0.7492502 |\n",
       "| 9363 | -5.634530  | -4.1805840 |\n",
       "\n"
      ],
      "text/plain": [
       "     [,1]      [,2]      \n",
       "5583  6.318094  2.5240023\n",
       "8380 -2.606285  1.2619462\n",
       "5701 -1.609710  1.7390522\n",
       "6591  3.878616 -2.3243613\n",
       "7621  2.996883 -0.7492502\n",
       "9363 -5.634530 -4.1805840"
      ]
     },
     "metadata": {},
     "output_type": "display_data"
    }
   ],
   "source": [
    "head(mds)"
   ]
  },
  {
   "cell_type": "code",
   "execution_count": 13,
   "metadata": {},
   "outputs": [
    {
     "data": {
      "image/png": "[encoded data removed]",
      "text/plain": [
       "plot without title"
      ]
     },
     "metadata": {},
     "output_type": "display_data"
    }
   ],
   "source": [
    "plot(mds)\n",
    "#mds visualize us similarity. here we can not see a significant trend. \n",
    "#Moreover almost all of the points illustrates almost a circle.\n",
    "#so we can say that the people rank the movies nearly similar."
   ]
  },
  {
   "cell_type": "code",
   "execution_count": null,
   "metadata": {},
   "outputs": [],
   "source": []
  }
 ],
 "metadata": {
  "kernelspec": {
   "display_name": "R",
   "language": "R",
   "name": "ir"
  },
  "language_info": {
   "codemirror_mode": "r",
   "file_extension": ".r",
   "mimetype": "text/x-r-source",
   "name": "R",
   "pygments_lexer": "r",
   "version": "3.6.1"
  }
 },
 "nbformat": 4,
 "nbformat_minor": 4
}
