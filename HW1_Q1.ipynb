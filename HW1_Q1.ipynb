{
 "cells": [
  {
   "cell_type": "code",
   "execution_count": 1,
   "metadata": {},
   "outputs": [],
   "source": [
    "#HW1_Q1_a\n",
    "#I have created 10 data sets\n",
    "set.seed(10)\n",
    "d1=runif(1000,min=-1,max=1)\n",
    "d2=runif(1000,min=-1,max=1)\n",
    "d3=runif(1000,min=-1,max=1)\n",
    "d4=runif(1000,min=-1,max=1)\n",
    "d5=runif(1000,min=-1,max=1)\n",
    "d6=runif(1000,min=-1,max=1)\n",
    "d7=runif(1000,min=-1,max=1)\n",
    "d8=runif(1000,min=-1,max=1)\n",
    "d9=runif(1000,min=-1,max=1)\n",
    "d10=runif(1000,min=-1,max=1)"
   ]
  },
  {
   "cell_type": "code",
   "execution_count": 2,
   "metadata": {},
   "outputs": [],
   "source": [
    "#I have created 1-10 dimensional data points\n",
    "p1=data.frame(d1)\n",
    "p2=data.frame(d1,d2)\n",
    "p3=data.frame(d1,d2,d3)\n",
    "p4=data.frame(d1,d2,d3,d4)\n",
    "p5=data.frame(d1,d2,d3,d4,d5)\n",
    "p6=data.frame(d1,d2,d3,d4,d5,d6)\n",
    "p7=data.frame(d1,d2,d3,d4,d5,d6,d7)\n",
    "p8=data.frame(d1,d2,d3,d4,d5,d6,d7,d8)\n",
    "p9=data.frame(d1,d2,d3,d4,d5,d6,d7,d8,d9)\n",
    "p10=data.frame(d1,d2,d3,d4,d5,d6,d7,d8,d9,d10)"
   ]
  },
  {
   "cell_type": "code",
   "execution_count": 3,
   "metadata": {},
   "outputs": [],
   "source": [
    "#I have calculated the distances\n",
    "dist1=sqrt((p1-0)^2)\n",
    "dist2=sqrt((p2[,1]-0)^2+(p2[,2]-0)^2)\n",
    "dist3=sqrt((p3[,1]-0)^2+(p3[,2]-0)^2+(p3[,3]-0)^2)\n",
    "dist4=sqrt((p4[,1]-0)^2+(p4[,2]-0)^2+(p4[,3]-0)^2+(p4[,4]-0)^2)\n",
    "dist5=sqrt((p5[,1]-0)^2+(p5[,2]-0)^2+(p5[,3]-0)^2+(p5[,4]-0)^2+(p5[,5]-0)^2)\n",
    "dist6=sqrt((p6[,1]-0)^2+(p6[,2]-0)^2+(p6[,3]-0)^2+(p6[,4]-0)^2+(p6[,5]-0)^2+(p6[,6]-0)^2)\n",
    "dist7=sqrt((p7[,1]-0)^2+(p7[,2]-0)^2+(p7[,3]-0)^2+(p7[,4]-0)^2+(p7[,5]-0)^2+(p7[,6]-0)^2+(p7[,7]-0)^2)\n",
    "dist8=sqrt((p8[,1]-0)^2+(p8[,2]-0)^2+(p8[,3]-0)^2+(p8[,4]-0)^2+(p8[,5]-0)^2+(p8[,6]-0)^2+(p8[,7]-0)^2+(p8[,8]-0)^2)\n",
    "dist9=sqrt((p9[,1]-0)^2+(p9[,2]-0)^2+(p9[,3]-0)^2+(p9[,4]-0)^2+(p9[,5]-0)^2+(p9[,6]-0)^2+(p9[,7]-0)^2+(p9[,8]-0)^2+(p9[,9]-0)^2)\n",
    "dist10=sqrt((p10[,1]-0)^2+(p10[,2]-0)^2+(p10[,3]-0)^2+(p10[,4]-0)^2+(p10[,5]-0)^2+(p10[,6]-0)^2+(p10[,7]-0)^2+(p10[,8]-0)^2+(p10[,9]-0)^2+(p10[,10]-0)^2)"
   ]
  },
  {
   "cell_type": "code",
   "execution_count": 7,
   "metadata": {},
   "outputs": [],
   "source": [
    "#I have calculated the fractions\n",
    "f1=(length(which(dist1<=1)))/1000\n",
    "f2=(length(which(dist2<=1)))/1000\n",
    "f3=(length(which(dist3<=1)))/1000\n",
    "f4=(length(which(dist4<=1)))/1000\n",
    "f5=(length(which(dist5<=1)))/1000\n",
    "f6=(length(which(dist6<=1)))/1000\n",
    "f7=(length(which(dist7<=1)))/1000\n",
    "f8=(length(which(dist8<=1)))/1000\n",
    "f9=(length(which(dist9<=1)))/1000\n",
    "f10=(length(which(dist10<=1)))/1000"
   ]
  },
  {
   "cell_type": "code",
   "execution_count": 9,
   "metadata": {},
   "outputs": [],
   "source": [
    "#I form fractions as vector\n",
    "fractions=c(f1,f2,f3,f4,f5,f6,f7,f8,f9,f10)"
   ]
  },
  {
   "cell_type": "code",
   "execution_count": 10,
   "metadata": {},
   "outputs": [
    {
     "data": {
      "image/png": "[encoded data removed]",
      "text/plain": [
       "plot without title"
      ]
     },
     "metadata": {},
     "output_type": "display_data"
    }
   ],
   "source": [
    "plot(fractions)\n",
    "#as we see from the plot below, fractions decrease while we increse the dimension."
   ]
  },
  {
   "cell_type": "code",
   "execution_count": 12,
   "metadata": {
    "scrolled": true
   },
   "outputs": [
    {
     "data": {
      "text/html": [
       "3.08"
      ],
      "text/latex": [
       "3.08"
      ],
      "text/markdown": [
       "3.08"
      ],
      "text/plain": [
       "[1] 3.08"
      ]
     },
     "metadata": {},
     "output_type": "display_data"
    }
   ],
   "source": [
    "#HW1_Q1_b\n",
    "#for d=2, estimation of pi\n",
    "#according to monte carlo simulation fraction is area of one unit circle/area of one unit square\n",
    "#fraction=pi/4\n",
    "#pi=fractionX4\n",
    "pi_est_2d=f2*4\n",
    "pi_est_2d"
   ]
  },
  {
   "cell_type": "code",
   "execution_count": 13,
   "metadata": {},
   "outputs": [
    {
     "data": {
      "text/html": [
       "2.97"
      ],
      "text/latex": [
       "2.97"
      ],
      "text/markdown": [
       "2.97"
      ],
      "text/plain": [
       "[1] 2.97"
      ]
     },
     "metadata": {},
     "output_type": "display_data"
    }
   ],
   "source": [
    "#for d=3, estimation of pi\n",
    "#according to monte carlo simulation fraction is volume of one unit sphere/volume of one unit cube\n",
    "#fraction=pi/6\n",
    "#pi=fractionX6\n",
    "pi_est_3d=f3*6\n",
    "pi_est_3d"
   ]
  },
  {
   "cell_type": "code",
   "execution_count": 15,
   "metadata": {},
   "outputs": [],
   "source": [
    "#HW1_Q1_c\n",
    "#I have created 10 new data sets\n",
    "set.seed(20)\n",
    "nd1=runif(100,min=-1,max=1)\n",
    "nd2=runif(100,min=-1,max=1)\n",
    "nd3=runif(100,min=-1,max=1)\n",
    "nd4=runif(100,min=-1,max=1)\n",
    "nd5=runif(100,min=-1,max=1)\n",
    "nd6=runif(100,min=-1,max=1)\n",
    "nd7=runif(100,min=-1,max=1)\n",
    "nd8=runif(100,min=-1,max=1)\n",
    "nd9=runif(100,min=-1,max=1)\n",
    "nd10=runif(100,min=-1,max=1)"
   ]
  },
  {
   "cell_type": "code",
   "execution_count": 16,
   "metadata": {},
   "outputs": [],
   "source": [
    "#I have created two matrix\n",
    "m1=as.matrix(nd1)\n",
    "m2=matrix(nd1,nd2,nrow=100,ncol=2)"
   ]
  },
  {
   "cell_type": "code",
   "execution_count": 18,
   "metadata": {},
   "outputs": [],
   "source": [
    "#I have combined matrix with cbind function\n",
    "m3=cbind(m2, nd3)\n",
    "m4=cbind(m3, nd4)\n",
    "m5=cbind(m4, nd5)\n",
    "m6=cbind(m5, nd6)\n",
    "m7=cbind(m6, nd7)\n",
    "m8=cbind(m7, nd8)\n",
    "m9=cbind(m8, nd9)\n",
    "m10=cbind(m9, nd10)"
   ]
  },
  {
   "cell_type": "code",
   "execution_count": 20,
   "metadata": {},
   "outputs": [
    {
     "name": "stderr",
     "output_type": "stream",
     "text": [
      "Warning message:\n",
      "\"package 'proxy' is in use and will not be installed\""
     ]
    }
   ],
   "source": [
    "install.packages('proxy')\n",
    "library(proxy)"
   ]
  },
  {
   "cell_type": "code",
   "execution_count": 21,
   "metadata": {},
   "outputs": [],
   "source": [
    "#I have computed the auto-distance/similarity matrix with proxy function\n",
    "dm1= proxy::dist(m1,p1)\n",
    "dm2= proxy::dist(m2,p2)\n",
    "dm3= proxy::dist(m3,p3)\n",
    "dm4= proxy::dist(m4,p4)\n",
    "dm5= proxy::dist(m5,p5)\n",
    "dm6= proxy::dist(m6,p6)\n",
    "dm7= proxy::dist(m7,p7)\n",
    "dm8= proxy::dist(m8,p8)\n",
    "dm9= proxy::dist(m9,p9)\n",
    "dm10= proxy::dist(m10,p10)"
   ]
  },
  {
   "cell_type": "code",
   "execution_count": 23,
   "metadata": {},
   "outputs": [],
   "source": [
    "#I have computed the min values of each matrix\n",
    "min_dm1 = t(sapply(seq(nrow(dm1)), function(i) {\n",
    "    j <- which.min(dm1[i,])\n",
    "    c(i, dm1[i,j])\n",
    "}))\n",
    "min_dm2 = t(sapply(seq(nrow(dm2)), function(i) {\n",
    "    j <- which.min(dm2[i,])\n",
    "    c(i, dm2[i,j])\n",
    "}))\n",
    "min_dm3 = t(sapply(seq(nrow(dm3)), function(i) {\n",
    "    j <- which.min(dm3[i,])\n",
    "    c(i, dm3[i,j])\n",
    "}))\n",
    "min_dm4 = t(sapply(seq(nrow(dm4)), function(i) {\n",
    "    j <- which.min(dm4[i,])\n",
    "    c(i, dm4[i,j])\n",
    "}))\n",
    "min_dm5 = t(sapply(seq(nrow(dm5)), function(i) {\n",
    "    j <- which.min(dm5[i,])\n",
    "    c(i, dm5[i,j])\n",
    "}))\n",
    "min_dm6 = t(sapply(seq(nrow(dm6)), function(i) {\n",
    "    j <- which.min(dm6[i,])\n",
    "    c(i, dm6[i,j])\n",
    "}))\n",
    "min_dm7 = t(sapply(seq(nrow(dm7)), function(i) {\n",
    "    j <- which.min(dm7[i,])\n",
    "    c(i, dm7[i,j])\n",
    "}))\n",
    "min_dm8 = t(sapply(seq(nrow(dm8)), function(i) {\n",
    "    j <- which.min(dm8[i,])\n",
    "    c(i, dm8[i,j])\n",
    "}))\n",
    "min_dm9 = t(sapply(seq(nrow(dm9)), function(i) {\n",
    "    j <- which.min(dm9[i,])\n",
    "    c(i, dm9[i,j])\n",
    "}))\n",
    "min_dm10 = t(sapply(seq(nrow(dm10)), function(i) {\n",
    "    j <- which.min(dm10[i,])\n",
    "    c(i, dm10[i,j])\n",
    "}))"
   ]
  },
  {
   "cell_type": "code",
   "execution_count": 24,
   "metadata": {},
   "outputs": [],
   "source": [
    "#I have computed the avg values \n",
    "avg_dm1 = mean(min_dm1[,2])\n",
    "avg_dm2 = mean(min_dm2[,2])\n",
    "avg_dm3 = mean(min_dm3[,2])\n",
    "avg_dm4 = mean(min_dm4[,2])\n",
    "avg_dm5 = mean(min_dm5[,2])\n",
    "avg_dm6 = mean(min_dm6[,2])\n",
    "avg_dm7 = mean(min_dm7[,2])\n",
    "avg_dm8 = mean(min_dm8[,2])\n",
    "avg_dm9 = mean(min_dm9[,2])\n",
    "avg_dm10 = mean(min_dm10[,2])"
   ]
  },
  {
   "cell_type": "code",
   "execution_count": 25,
   "metadata": {},
   "outputs": [],
   "source": [
    "#I form avg as vector\n",
    "avg = c(avg_dm1, avg_dm2, avg_dm3, avg_dm4, avg_dm5, avg_dm6, avg_dm7, avg_dm8, avg_dm9, avg_dm10)"
   ]
  },
  {
   "cell_type": "code",
   "execution_count": 26,
   "metadata": {
    "scrolled": true
   },
   "outputs": [
    {
     "data": {
      "image/png": "[encoded data removed]",
      "text/plain": [
       "plot without title"
      ]
     },
     "metadata": {},
     "output_type": "display_data"
    }
   ],
   "source": [
    "plot(avg)"
   ]
  },
  {
   "cell_type": "code",
   "execution_count": null,
   "metadata": {},
   "outputs": [],
   "source": []
  }
 ],
 "metadata": {
  "kernelspec": {
   "display_name": "R",
   "language": "R",
   "name": "ir"
  },
  "language_info": {
   "codemirror_mode": "r",
   "file_extension": ".r",
   "mimetype": "text/x-r-source",
   "name": "R",
   "pygments_lexer": "r",
   "version": "3.6.1"
  }
 },
 "nbformat": 4,
 "nbformat_minor": 4
}
